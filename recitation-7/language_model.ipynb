{
 "cells": [
  {
   "cell_type": "markdown",
   "metadata": {
    "nbpresent": {
     "id": "b627a2e6-57ae-4542-b7eb-2a7d96535513"
    }
   },
   "source": [
    "# Shakespeare Language Model"
   ]
  },
  {
   "cell_type": "code",
   "execution_count": 17,
   "metadata": {
    "nbpresent": {
     "id": "837bde82-bf01-48a0-a70c-ae2ff47f6bcf"
    }
   },
   "outputs": [
    {
     "data": {
      "text/plain": [
       "'cuda'"
      ]
     },
     "execution_count": 17,
     "metadata": {},
     "output_type": "execute_result"
    }
   ],
   "source": [
    "import torch\n",
    "import torch.nn as nn\n",
    "import torch.nn.utils.rnn as rnn\n",
    "from torch.utils.data import Dataset, DataLoader, TensorDataset\n",
    "import numpy as np\n",
    "\n",
    "import shakespeare_data as sh\n",
    "\n",
    "DEVICE = \"cuda\" if torch.cuda.is_available() else \"cpu\"\n",
    "DEVICE"
   ]
  },
  {
   "cell_type": "markdown",
   "metadata": {
    "nbpresent": {
     "id": "26adeb84-ce2a-438b-a2b1-4df207196897"
    }
   },
   "source": [
    "## Fixed length input"
   ]
  },
  {
   "cell_type": "code",
   "execution_count": 18,
   "metadata": {
    "nbpresent": {
     "id": "07b27339-a14b-45b9-b8c6-2789f04510d8"
    },
    "scrolled": false
   },
   "outputs": [
    {
     "name": "stdout",
     "output_type": "stream",
     "text": [
      "1609\n",
      " THE SONNETS\n",
      " by William Shakespeare\n",
      "                      1\n",
      "   From fairest creatures we desire increase,\n",
      "   That thereby beauty's rose might never die,\n",
      "   But as the riper should by time decease,\n",
      "...,\n",
      "   And new pervert a reconciled maid.'\n",
      " THE END\n",
      "\n",
      "Total character count: 5551930\n",
      "Unique character count: 84\n",
      "\n",
      "(5551930,)\n",
      "[12 17 11 20  0  1 45 33 30  1 44 40 39 39 30 45 44]\n",
      "1609\n",
      " THE SONNETS\n"
     ]
    }
   ],
   "source": [
    "# Data - refer to shakespeare_data.py for details\n",
    "corpus = sh.read_corpus()\n",
    "print(\"{}...{}\".format(corpus[:203], corpus[-50:]))\n",
    "print(\"Total character count: {}\".format(len(corpus)))\n",
    "chars, charmap = sh.get_charmap(corpus)\n",
    "charcount = len(chars)\n",
    "print(\"Unique character count: {}\\n\".format(charcount))\n",
    "\n",
    "shakespeare_array = sh.map_corpus(corpus, charmap)\n",
    "print(shakespeare_array.shape)\n",
    "print(shakespeare_array[:17])\n",
    "print(sh.to_text(shakespeare_array[:17],chars))"
   ]
  },
  {
   "cell_type": "code",
   "execution_count": 19,
   "metadata": {
    "nbpresent": {
     "id": "90146354-7d91-4b07-9bae-e85b345cb068"
    }
   },
   "outputs": [],
   "source": [
    "# Dataset class. Transforme raw text into a set of sequences of fixed length, and extracts inputs and targets\n",
    "class TextDataset(Dataset):\n",
    "    def __init__(self,text, seq_len = 200):\n",
    "        n_seq = len(text) // seq_len\n",
    "        text = text[:n_seq * seq_len]\n",
    "        self.data = torch.tensor(text).view(-1,seq_len)\n",
    "    def __getitem__(self,i):\n",
    "        txt = self.data[i]\n",
    "        return txt[:-1],txt[1:]\n",
    "    def __len__(self):\n",
    "        return self.data.size(0)\n",
    "\n",
    "# Collate function. Transform a list of sequences into a batch. Passed as an argument to the DataLoader.\n",
    "# Returns data on the format seq_len x batch_size\n",
    "def collate(seq_list):\n",
    "    '''seq_list is a list; seq_list[0] is a tuple with length 2. First one is inputs, while second one is targets'''\n",
    "#     print(f'len(seq_list): {len(seq_list)}')\n",
    "#     print(f'{seq_list[0][0]}')\n",
    "#     print(f'{seq_list[0][1]}')\n",
    "    inputs = torch.cat([s[0].unsqueeze(1) for s in seq_list],dim=1)\n",
    "    targets = torch.cat([s[1].unsqueeze(1) for s in seq_list],dim=1)\n",
    "#     print(f'inputs: {inputs.shape}')\n",
    "#     print(f'targets: {targets.shape}')\n",
    "    # inputs: torch.Size([199, 64])\n",
    "    # targets: torch.Size([199, 64])\n",
    "    return inputs,targets\n"
   ]
  },
  {
   "cell_type": "code",
   "execution_count": 20,
   "metadata": {
    "nbpresent": {
     "id": "aee4a856-b92c-4a2c-8977-e344c27b6252"
    }
   },
   "outputs": [],
   "source": [
    "# Model\n",
    "class CharLanguageModel(nn.Module):\n",
    "\n",
    "    def __init__(self,vocab_size,embed_size,hidden_size, nlayers):\n",
    "        super(CharLanguageModel,self).__init__()\n",
    "        self.vocab_size=vocab_size\n",
    "        self.embed_size = embed_size\n",
    "        self.hidden_size = hidden_size\n",
    "        self.nlayers=nlayers\n",
    "        self.embedding = nn.Embedding(vocab_size,embed_size) # Embedding layer\n",
    "        self.rnn = nn.LSTM(input_size = embed_size,hidden_size=hidden_size,num_layers=nlayers) # Recurrent network\n",
    "        self.scoring = nn.Linear(hidden_size,vocab_size) # Projection layer\n",
    "        \n",
    "    def forward(self,seq_batch): #L x N\n",
    "        # returns 3D logits\n",
    "        batch_size = seq_batch.size(1)\n",
    "        embed = self.embedding(seq_batch) #L x N x E\n",
    "        hidden = None\n",
    "        output_lstm,hidden = self.rnn(embed,hidden) #L x N x H\n",
    "        output_lstm_flatten = output_lstm.view(-1,self.hidden_size) #(L*N) x H\n",
    "        output_flatten = self.scoring(output_lstm_flatten) #(L*N) x V\n",
    "        return output_flatten.view(-1,batch_size,self.vocab_size)\n",
    "    \n",
    "    def generate(self,seq, n_words): # L x V\n",
    "        # performs greedy search to extract and return words (one sequence).\n",
    "        generated_words = []\n",
    "        embed = self.embedding(seq).unsqueeze(1) # L x 1 x E\n",
    "        hidden = None\n",
    "        output_lstm, hidden = self.rnn(embed,hidden) # L x 1 x H\n",
    "        output = output_lstm[-1] # 1 x H\n",
    "        scores = self.scoring(output) # 1 x V\n",
    "        _,current_word = torch.max(scores,dim=1) # 1 x 1\n",
    "        generated_words.append(current_word)\n",
    "        if n_words > 1:\n",
    "            for i in range(n_words-1):\n",
    "                embed = self.embedding(current_word).unsqueeze(0) # 1 x 1 x E\n",
    "                output_lstm, hidden = self.rnn(embed,hidden) # 1 x 1 x H\n",
    "                output = output_lstm[0] # 1 x H\n",
    "                scores = self.scoring(output) # V\n",
    "                _,current_word = torch.max(scores,dim=1) # 1\n",
    "                generated_words.append(current_word)\n",
    "        return torch.cat(generated_words,dim=0)\n",
    "        \n",
    "        "
   ]
  },
  {
   "cell_type": "code",
   "execution_count": 21,
   "metadata": {
    "nbpresent": {
     "id": "63ac3711-8641-4cef-9f95-40b7715d4cfe"
    }
   },
   "outputs": [],
   "source": [
    "def train_epoch(model, optimizer, train_loader, val_loader):\n",
    "    criterion = nn.CrossEntropyLoss()\n",
    "    criterion = criterion.to(DEVICE)\n",
    "    batch_id=0\n",
    "    for inputs,targets in train_loader:\n",
    "        batch_id+=1\n",
    "        inputs = inputs.to(DEVICE)\n",
    "        targets = targets.to(DEVICE)\n",
    "        outputs = model(inputs) # 3D\n",
    "        loss = criterion(outputs.view(-1,outputs.size(2)),targets.view(-1)) # Loss of the flattened outputs\n",
    "        optimizer.zero_grad()\n",
    "        loss.backward()\n",
    "        optimizer.step()\n",
    "        if batch_id % 100 == 0:\n",
    "            lpw = loss.item()\n",
    "            print(\"At batch\",batch_id)\n",
    "            print(\"Training loss per word:\",lpw)\n",
    "            print(\"Training perplexity :\",np.exp(lpw))\n",
    "    \n",
    "    val_loss = 0\n",
    "    batch_id=0\n",
    "    for inputs,targets in val_loader:\n",
    "        batch_id+=1\n",
    "        inputs = inputs.to(DEVICE)\n",
    "        targets = targets.to(DEVICE)\n",
    "        outputs = model(inputs)\n",
    "        loss = criterion(outputs.view(-1,outputs.size(2)),targets.view(-1))\n",
    "        val_loss+=loss.item()\n",
    "    val_lpw = val_loss / batch_id\n",
    "    print(\"\\nValidation loss per word:\",val_lpw)\n",
    "    print(\"Validation perplexity :\",np.exp(val_lpw),\"\\n\")\n",
    "    return val_lpw\n",
    "    "
   ]
  },
  {
   "cell_type": "code",
   "execution_count": 22,
   "metadata": {
    "nbpresent": {
     "id": "e8384b80-5dad-440a-a5dc-40cb032c8ba2"
    }
   },
   "outputs": [],
   "source": [
    "model = CharLanguageModel(charcount,256,256,3)\n",
    "model = model.to(DEVICE)\n",
    "optimizer = torch.optim.Adam(model.parameters(),lr=0.001, weight_decay=1e-6)\n",
    "split = 5000000\n",
    "train_dataset = TextDataset(shakespeare_array[:split])\n",
    "val_dataset = TextDataset(shakespeare_array[split:])\n",
    "train_loader = DataLoader(train_dataset, shuffle=True, batch_size=64, collate_fn = collate)\n",
    "val_loader = DataLoader(val_dataset, shuffle=False, batch_size=64, collate_fn = collate, drop_last=True)"
   ]
  },
  {
   "cell_type": "code",
   "execution_count": 23,
   "metadata": {
    "nbpresent": {
     "id": "24492dd0-7bdf-4c8f-8987-8299f2fb19fc"
    },
    "scrolled": false
   },
   "outputs": [
    {
     "name": "stdout",
     "output_type": "stream",
     "text": [
      "At batch 100\n",
      "Training loss per word: 2.5395045280456543\n",
      "Training perplexity : 12.673390105602275\n",
      "At batch 200\n",
      "Training loss per word: 2.021703004837036\n",
      "Training perplexity : 7.551173675116168\n",
      "At batch 300\n",
      "Training loss per word: 1.824781060218811\n",
      "Training perplexity : 6.201437129174109\n",
      "\n",
      "Validation loss per word: 1.7384491133135418\n",
      "Validation perplexity : 5.688514336835107 \n",
      "\n",
      "At batch 100\n",
      "Training loss per word: 1.6161293983459473\n",
      "Training perplexity : 5.033569619618304\n",
      "At batch 200\n",
      "Training loss per word: 1.5752307176589966\n",
      "Training perplexity : 4.831856284089245\n",
      "At batch 300\n",
      "Training loss per word: 1.5197950601577759\n",
      "Training perplexity : 4.571288260042999\n",
      "\n",
      "Validation loss per word: 1.5405229718186135\n",
      "Validation perplexity : 4.667030358238051 \n",
      "\n",
      "At batch 100\n",
      "Training loss per word: 1.4456603527069092\n",
      "Training perplexity : 4.244654186431974\n",
      "At batch 200\n",
      "Training loss per word: 1.425764799118042\n",
      "Training perplexity : 4.161038985079454\n",
      "At batch 300\n",
      "Training loss per word: 1.3403819799423218\n",
      "Training perplexity : 3.82050258203551\n",
      "\n",
      "Validation loss per word: 1.4610567314680232\n",
      "Validation perplexity : 4.310512176318376 \n",
      "\n"
     ]
    }
   ],
   "source": [
    "for i in range(3):\n",
    "    train_epoch(model, optimizer, train_loader, val_loader)"
   ]
  },
  {
   "cell_type": "code",
   "execution_count": 24,
   "metadata": {
    "nbpresent": {
     "id": "69b3b526-3400-4c4c-adc4-d9c5aaa2155b"
    }
   },
   "outputs": [],
   "source": [
    "def generate(model, seed, nwords):\n",
    "    seq = sh.map_corpus(seed, charmap)\n",
    "    seq = torch.tensor(seq).to(DEVICE)\n",
    "    out = model.generate(seq,nwords)\n",
    "    return sh.to_text(out.cpu().detach().numpy(),chars)"
   ]
  },
  {
   "cell_type": "code",
   "execution_count": 25,
   "metadata": {
    "nbpresent": {
     "id": "17bdb4a8-a32b-408a-a374-62ee4436e44c"
    }
   },
   "outputs": [
    {
     "name": "stdout",
     "output_type": "stream",
     "text": [
      "ueen\n",
      "   \n"
     ]
    }
   ],
   "source": [
    "print(generate(model, \"To be, or not to be, that is the q\",8))"
   ]
  },
  {
   "cell_type": "code",
   "execution_count": 26,
   "metadata": {
    "nbpresent": {
     "id": "cfab54b9-3038-492b-8b0d-16e419359684"
    }
   },
   "outputs": [
    {
     "name": "stdout",
     "output_type": "stream",
     "text": [
      "the stare of the stares to the stares to the stares\n",
      "     That he shall be so soul to the stare of the stares\n",
      "     That he shall be so soul to the stare of the stares\n",
      "     That he shall be so soul to the stare of the stares\n",
      "     That he shall be so soul to the stare of the stares\n",
      "     That he shall be so soul to the stare of the stares\n",
      "     That he shall be so soul to the stare of the stares\n",
      "     That he shall be so soul to the stare of the stares\n",
      "     That he shall be so soul to the stare of the stares\n",
      "     That he shall be so soul to the stare of the stares\n",
      "     That he shall be so soul to the stare of the stares\n",
      "     That he shall be so soul to the stare of the stares\n",
      "     That he shall be so soul to the stare of the stares\n",
      "     That he shall be so soul to the stare of the stares\n",
      "     That he shall be so soul to the stare of the stares\n",
      "     That he shall be so soul to the stare of the stares\n",
      "     That he shall be so soul to the stare of the stares\n",
      "     That he shall be so soul to the\n"
     ]
    }
   ],
   "source": [
    "print(generate(model, \"Richard \", 1000))"
   ]
  },
  {
   "cell_type": "markdown",
   "metadata": {
    "nbpresent": {
     "id": "6a637e4d-cdbb-4a57-972c-94880ed7defa"
    }
   },
   "source": [
    "## Packed sequences"
   ]
  },
  {
   "cell_type": "code",
   "execution_count": 5,
   "metadata": {
    "nbpresent": {
     "id": "bc2573e1-3e40-4089-b18f-d81a8c13e8f6"
    }
   },
   "outputs": [
    {
     "name": "stdout",
     "output_type": "stream",
     "text": [
      "stop_character: 0\n",
      "space_character: 1\n",
      "1609\n",
      "\n",
      " THE SONNETS\n",
      "\n",
      " by William Shakespeare\n",
      "\n",
      "                      1\n",
      "\n",
      "   From fairest creatures we desire increase,\n",
      "\n",
      "   That thereby beauty's rose might never die,\n",
      "\n",
      "   But as the riper should by time decease,\n",
      "\n",
      "   His tender heir might bear his memory:\n",
      "\n",
      "   But thou contracted to thine own bright eyes,\n",
      "\n",
      "   Feed'st thy light's flame with self-substantial fuel,\n",
      "\n",
      "len(lines):             114639\n",
      "len(shakespeare_lines): 114638\n"
     ]
    }
   ],
   "source": [
    "stop_character = charmap['\\n']\n",
    "space_character = charmap[\" \"]\n",
    "print(f'stop_character: {stop_character}')\n",
    "print(f'space_character: {space_character}')\n",
    "\n",
    "lines = np.split(shakespeare_array, np.where(shakespeare_array == stop_character)[0]+1) # split the data in lines\n",
    "shakespeare_lines = []\n",
    "for s in lines:\n",
    "    s_trimmed = np.trim_zeros(s-space_character)+space_character # remove space-only lines\n",
    "    if len(s_trimmed)>1:\n",
    "        shakespeare_lines.append(s)\n",
    "for i in range(10):\n",
    "    print(sh.to_text(shakespeare_lines[i],chars))\n",
    "    \n",
    "print(f'len(lines):             {len(lines)}')\n",
    "print(f'len(shakespeare_lines): {len(shakespeare_lines)}')"
   ]
  },
  {
   "cell_type": "code",
   "execution_count": 6,
   "metadata": {
    "nbpresent": {
     "id": "480b92d7-e6d0-4dce-b819-f1afe5336fbe"
    }
   },
   "outputs": [],
   "source": [
    "class LinesDataset(Dataset):\n",
    "    def __init__(self,lines):\n",
    "        self.lines=[torch.tensor(l) for l in lines]\n",
    "    def __getitem__(self,i):\n",
    "        line = self.lines[i]\n",
    "        return line[:-1].to(DEVICE),line[1:].to(DEVICE)\n",
    "    def __len__(self):\n",
    "        return len(self.lines)\n",
    "\n",
    "def collate_lines(seq_list):\n",
    "    inputs,targets = zip(*seq_list)\n",
    "    lens = [len(seq) for seq in inputs]\n",
    "    seq_order = sorted(range(len(lens)), key=lens.__getitem__, reverse=True)\n",
    "    inputs = [inputs[i] for i in seq_order]\n",
    "    targets = [targets[i] for i in seq_order]\n",
    "    return inputs,targets"
   ]
  },
  {
   "cell_type": "code",
   "execution_count": 7,
   "metadata": {
    "nbpresent": {
     "id": "6d40b21f-b30d-4194-a363-bdfc7be8866a"
    }
   },
   "outputs": [],
   "source": [
    "# Model that takes packed sequences in training\n",
    "class PackedLanguageModel(nn.Module):\n",
    "    \n",
    "    def __init__(self,vocab_size,embed_size,hidden_size, nlayers, stop):\n",
    "        super(PackedLanguageModel,self).__init__()\n",
    "        self.vocab_size=vocab_size\n",
    "        self.embed_size = embed_size\n",
    "        self.hidden_size = hidden_size\n",
    "        self.nlayers=nlayers\n",
    "        self.embedding = nn.Embedding(vocab_size,embed_size)\n",
    "        self.rnn = nn.LSTM(input_size = embed_size,hidden_size=hidden_size,num_layers=nlayers) # 1 layer, batch_size = False\n",
    "        self.scoring = nn.Linear(hidden_size,vocab_size)\n",
    "        self.stop = stop # stop line character (\\n)\n",
    "    \n",
    "    def forward(self,seq_list): # list\n",
    "        batch_size = len(seq_list)\n",
    "        lens = [len(s) for s in seq_list] # lens of all lines (already sorted)\n",
    "#         print(f'lens: {lens}')\n",
    "        bounds = [0]\n",
    "        for l in lens:\n",
    "            bounds.append(bounds[-1]+l) # bounds of all lines in the concatenated sequence\n",
    "#         print(f'seq_list: {len(seq_list)}')\n",
    "#         print(f'seq_list[0]: {seq_list[0].size()}')\n",
    "#         print(f'seq_list[1]: {seq_list[1].size()}')\n",
    "#         print(f'seq_list[2]: {seq_list[2].size()}')\n",
    "        # seq_list[0]: torch.Size([56])\n",
    "        # seq_list[1]: torch.Size([54])\n",
    "        # seq_list[2]: torch.Size([52])\n",
    "        seq_concat = torch.cat(seq_list) # concatenated sequence\n",
    "#         print(f'seq_concat: {seq_concat.size()}')\n",
    "        # seq_concat: torch.Size([2717])\n",
    "        embed_concat = self.embedding(seq_concat) # concatenated embeddings\n",
    "#         print(f'embed_concat: {embed_concat.size()}')\n",
    "        # embed_concat: torch.Size([2717, 256])\n",
    "        embed_list = [embed_concat[bounds[i]:bounds[i+1]] for i in range(batch_size)] # embeddings per line\n",
    "#         print(f'embed_list: {len(embed_list)}')\n",
    "#         print(f'embed_list[0]: {embed_list[0].size()}')\n",
    "        # embed_list[0]: torch.Size([56, 256])\n",
    "#         print(f'embed_list[1]: {embed_list[1].size()}')\n",
    "        \n",
    "        packed_input = rnn.pack_sequence(embed_list) # packed version\n",
    "#         print(f'packed_input: {packed_input}')\n",
    "        hidden = None\n",
    "        output_packed,hidden = self.rnn(packed_input,hidden)\n",
    "        output_padded, _ = rnn.pad_packed_sequence(output_packed) # unpacked output (padded)\n",
    "        output_flatten = torch.cat([output_padded[:lens[i],i] for i in range(batch_size)]) # concatenated output\n",
    "        scores_flatten = self.scoring(output_flatten) # concatenated logits\n",
    "        return scores_flatten # return concatenated logits\n",
    "    \n",
    "    def generate(self,seq, n_words): # L x V\n",
    "        generated_words = []\n",
    "        embed = self.embedding(seq).unsqueeze(1) # L x 1 x E\n",
    "        hidden = None\n",
    "        output_lstm, hidden = self.rnn(embed,hidden) # L x 1 x H\n",
    "        output = output_lstm[-1] # 1 x H\n",
    "        scores = self.scoring(output) # 1 x V\n",
    "        _,current_word = torch.max(scores,dim=1) # 1 x 1\n",
    "        generated_words.append(current_word)\n",
    "        if n_words > 1:\n",
    "            for i in range(n_words-1):\n",
    "                embed = self.embedding(current_word).unsqueeze(0) # 1 x 1 x E\n",
    "                output_lstm, hidden = self.rnn(embed,hidden) # 1 x 1 x H\n",
    "                output = output_lstm[0] # 1 x H\n",
    "                scores = self.scoring(output) # V\n",
    "                _,current_word = torch.max(scores,dim=1) # 1\n",
    "                generated_words.append(current_word)\n",
    "                if current_word[0].item()==self.stop: # If end of line\n",
    "                    break\n",
    "        return torch.cat(generated_words,dim=0)"
   ]
  },
  {
   "cell_type": "code",
   "execution_count": 8,
   "metadata": {
    "nbpresent": {
     "id": "e3ec9ba9-4749-472d-83b9-67623f86dc16"
    }
   },
   "outputs": [],
   "source": [
    "def train_epoch_packed(model, optimizer, train_loader, val_loader):\n",
    "    criterion = nn.CrossEntropyLoss(reduction=\"sum\") # sum instead of averaging, to take into account the different lengths\n",
    "    criterion = criterion.to(DEVICE)\n",
    "    batch_id=0\n",
    "    for inputs,targets in train_loader: # lists, presorted, preloaded on GPU\n",
    "        batch_id+=1\n",
    "        outputs = model(inputs)\n",
    "        loss = criterion(outputs,torch.cat(targets)) # criterion of the concatenated output\n",
    "        optimizer.zero_grad()\n",
    "        loss.backward()\n",
    "        optimizer.step()\n",
    "        if batch_id % 100 == 0:\n",
    "            nwords = np.sum(np.array([len(l) for l in inputs]))\n",
    "            lpw = loss.item() / nwords\n",
    "            print(f\"At batch {batch_id}/{len(train_loader)}\")\n",
    "            print(\"Training loss per word:\",lpw)\n",
    "            print(\"Training perplexity :\",np.exp(lpw))\n",
    "    \n",
    "    val_loss = 0\n",
    "    batch_id=0\n",
    "    nwords = 0\n",
    "    for inputs,targets in val_loader:\n",
    "        nwords += np.sum(np.array([len(l) for l in inputs]))\n",
    "        batch_id+=1\n",
    "        outputs = model(inputs)\n",
    "        loss = criterion(outputs,torch.cat(targets))\n",
    "        val_loss+=loss.item()\n",
    "    val_lpw = val_loss / nwords\n",
    "    print(\"\\nValidation loss per word:\",val_lpw)\n",
    "    print(\"Validation perplexity :\",np.exp(val_lpw),\"\\n\")\n",
    "    return val_lpw"
   ]
  },
  {
   "cell_type": "code",
   "execution_count": 9,
   "metadata": {
    "nbpresent": {
     "id": "c4921abe-5b73-4758-b6c3-2247b30950b4"
    }
   },
   "outputs": [],
   "source": [
    "model = PackedLanguageModel(charcount,256,256,3, stop=stop_character)\n",
    "model = model.to(DEVICE)\n",
    "optimizer = torch.optim.Adam(model.parameters(),lr=0.001, weight_decay=1e-6)\n",
    "split = 100000\n",
    "train_dataset = LinesDataset(shakespeare_lines[:split])\n",
    "val_dataset = LinesDataset(shakespeare_lines[split:])\n",
    "train_loader = DataLoader(train_dataset, shuffle=False, batch_size=64, collate_fn = collate_lines)\n",
    "val_loader = DataLoader(val_dataset, shuffle=False, batch_size=64, collate_fn = collate_lines, drop_last=True)"
   ]
  },
  {
   "cell_type": "code",
   "execution_count": 10,
   "metadata": {
    "nbpresent": {
     "id": "003f4d40-8e4b-4eb6-a3a8-34d05a3b4c85"
    },
    "scrolled": false
   },
   "outputs": [
    {
     "name": "stdout",
     "output_type": "stream",
     "text": [
      "At batch 100/1563\n",
      "Training loss per word: 2.977679769153602\n",
      "Training perplexity : 19.6421893187191\n",
      "At batch 200/1563\n",
      "Training loss per word: 2.5733482992706196\n",
      "Training perplexity : 13.109646054377619\n",
      "At batch 300/1563\n",
      "Training loss per word: 2.083365609449871\n",
      "Training perplexity : 8.031454216036174\n",
      "At batch 400/1563\n",
      "Training loss per word: 2.044063203515068\n",
      "Training perplexity : 7.721921279808336\n",
      "At batch 500/1563\n",
      "Training loss per word: 2.005717848380313\n",
      "Training perplexity : 7.431426620048053\n",
      "At batch 600/1563\n",
      "Training loss per word: 1.6642927938432837\n",
      "Training perplexity : 5.281936510574362\n",
      "At batch 700/1563\n",
      "Training loss per word: 1.711873215291184\n",
      "Training perplexity : 5.539328119252742\n",
      "At batch 800/1563\n",
      "Training loss per word: 1.707475884244373\n",
      "Training perplexity : 5.515023336986449\n",
      "At batch 900/1563\n",
      "Training loss per word: 1.769337050744142\n",
      "Training perplexity : 5.866962573355435\n",
      "At batch 1000/1563\n",
      "Training loss per word: 1.6488231790476833\n",
      "Training perplexity : 5.2008557483998175\n",
      "At batch 1100/1563\n",
      "Training loss per word: 1.644877691573224\n",
      "Training perplexity : 5.18037626452837\n",
      "At batch 1200/1563\n",
      "Training loss per word: 1.5695350776284427\n",
      "Training perplexity : 4.80441399490245\n",
      "At batch 1300/1563\n",
      "Training loss per word: 1.6085776598185155\n",
      "Training perplexity : 4.995700586478082\n",
      "At batch 1400/1563\n",
      "Training loss per word: 1.614862954602797\n",
      "Training perplexity : 5.027198921784519\n",
      "At batch 1500/1563\n",
      "Training loss per word: 1.6342842955508474\n",
      "Training perplexity : 5.125788134542053\n",
      "\n",
      "Validation loss per word: 1.6991278377377337\n",
      "Validation perplexity : 5.469175302706979 \n",
      "\n",
      "At batch 100/1563\n",
      "Training loss per word: 1.5201686219788166\n",
      "Training perplexity : 4.572996237807702\n",
      "At batch 200/1563\n",
      "Training loss per word: 1.6034868829141\n",
      "Training perplexity : 4.970333213913319\n",
      "At batch 300/1563\n",
      "Training loss per word: 1.4846779035546442\n",
      "Training perplexity : 4.4135435971059325\n",
      "At batch 400/1563\n",
      "Training loss per word: 1.5636113448421898\n",
      "Training perplexity : 4.776038058910662\n",
      "At batch 500/1563\n",
      "Training loss per word: 1.4665602286562869\n",
      "Training perplexity : 4.334300467314455\n",
      "At batch 600/1563\n",
      "Training loss per word: 1.328511414282753\n",
      "Training perplexity : 3.775419167491147\n",
      "At batch 700/1563\n",
      "Training loss per word: 1.3769067791284588\n",
      "Training perplexity : 3.96262537518647\n",
      "At batch 800/1563\n",
      "Training loss per word: 1.4157878127512058\n",
      "Training perplexity : 4.119730764283311\n",
      "At batch 900/1563\n",
      "Training loss per word: 1.5675612407971817\n",
      "Training perplexity : 4.794940218526901\n",
      "At batch 1000/1563\n",
      "Training loss per word: 1.4360632183908046\n",
      "Training perplexity : 4.204112523146979\n",
      "At batch 1100/1563\n",
      "Training loss per word: 1.442112214733218\n",
      "Training perplexity : 4.229620254732085\n",
      "At batch 1200/1563\n",
      "Training loss per word: 1.426876606914283\n",
      "Training perplexity : 4.165667833381527\n",
      "At batch 1300/1563\n",
      "Training loss per word: 1.4304383220330343\n",
      "Training perplexity : 4.180531209325953\n",
      "At batch 1400/1563\n",
      "Training loss per word: 1.4682574948637543\n",
      "Training perplexity : 4.341663175501052\n",
      "At batch 1500/1563\n",
      "Training loss per word: 1.4491843220338982\n",
      "Training perplexity : 4.259638604396459\n",
      "\n",
      "Validation loss per word: 1.5763225064330042\n",
      "Validation perplexity : 4.837134531379093 \n",
      "\n"
     ]
    }
   ],
   "source": [
    "for i in range(2):\n",
    "    train_epoch_packed(model, optimizer, train_loader, val_loader)"
   ]
  },
  {
   "cell_type": "code",
   "execution_count": 15,
   "metadata": {
    "nbpresent": {
     "id": "0a4dd227-0a9f-40e8-8efd-1c7aa247d725"
    }
   },
   "outputs": [
    {
     "name": "stdout",
     "output_type": "stream",
     "text": [
      "uest\n",
      "\n"
     ]
    }
   ],
   "source": [
    "print(generate(model, \"To be, or not to be, that is the q\", 7))"
   ]
  },
  {
   "cell_type": "code",
   "execution_count": 16,
   "metadata": {
    "nbpresent": {
     "id": "9ed9f50d-950a-42c5-9752-a59fcde6da0e"
    },
    "scrolled": false
   },
   "outputs": [
    {
     "name": "stdout",
     "output_type": "stream",
     "text": [
      "\n",
      "orth,\n",
      "\n"
     ]
    }
   ],
   "source": [
    "print(generate(model, \"Richard \", 1000))"
   ]
  },
  {
   "cell_type": "code",
   "execution_count": null,
   "metadata": {
    "nbpresent": {
     "id": "2ead8ead-da35-4798-a517-1e19ec00d845"
    }
   },
   "outputs": [],
   "source": []
  }
 ],
 "metadata": {
  "kernelspec": {
   "display_name": "Python 3",
   "language": "python",
   "name": "python3"
  }
 },
 "nbformat": 4,
 "nbformat_minor": 2
}
